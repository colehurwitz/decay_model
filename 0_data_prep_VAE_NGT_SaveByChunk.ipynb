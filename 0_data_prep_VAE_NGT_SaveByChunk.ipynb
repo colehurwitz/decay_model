{
 "cells": [
  {
   "cell_type": "markdown",
   "metadata": {},
   "source": [
    "# Preparing a Non-ground Truth Dataset for Localization\n",
    "\n",
    "This notebook shows how the ground truth recordings are prepared for the paper: *Scalable Spike Source Localization in Extracellular Recordings using Amortized Variational Inference*.\n",
    "\n",
    "For the data preparation, we perform the data augmentation described in the original manuscript. This data augmentation introduces \"virtual\" channels which exist outside of the MEA, in addition to the real, recording channels. We extract all \"detected\" events from a patch of channels near the soma of the firing neuron and then center the extracted data on the channel with the largest detected spike. This provides a realistic dataset for evaluating the performance our localization method.\n",
    "\n",
    "We designed this notebook to be compatible with any dataset compatible with SpikeInterface."
   ]
  },
  {
   "cell_type": "code",
   "execution_count": 1,
   "metadata": {},
   "outputs": [],
   "source": [
    "%load_ext autoreload\n",
    "%autoreload 2\n",
    "%matplotlib inline\n",
    "\n",
    "import numpy as np\n",
    "\n",
    "import matplotlib.pyplot as plt\n",
    "import matplotlib as mpl\n",
    "np.set_printoptions(suppress=True)\n",
    "import h5py\n",
    "from collections import defaultdict\n",
    "import ast\n",
    "import spikeextractors as se\n",
    "import spiketoolkit as st\n",
    "import h5py\n",
    "from utility_functions import data_augmentation_functions_new\n",
    "\n",
    "import matplotlib as mpl\n",
    "mpl.rc('xtick', labelsize=12) \n",
    "mpl.rc('ytick', labelsize=12) \n",
    "mpl.rcParams.update({'font.size': 12})\n",
    "\n",
    "import urllib\n",
    "from urllib.request import urlretrieve"
   ]
  },
  {
   "cell_type": "markdown",
   "metadata": {},
   "source": [
    "Here you can download an example MEArec dataset that is 4.2gb. This example dataset is used throughout these notebooks"
   ]
  },
  {
   "cell_type": "code",
   "execution_count": 2,
   "metadata": {},
   "outputs": [],
   "source": [
    "# #Example MEArec dataset to be downloaded (4.2gb)\n",
    "# file_url = 'https://www.dropbox.com/s/1jolgsw5kgxmsd5/recordings_300_SqMEA-10-15um_minamp0_60s_10uV_far-neurons_bpf_25-03-2019.h5?dl=1'\n",
    "# file_name = '/disk/scratch/cole/recordingsrecordings_300_SqMEA-10-15um_minamp0_60s_10uV_far-neurons_bpf_25-03-2019.h5'\n",
    "\n",
    "# urllib.request.urlretrieve(file_url, file_name)"
   ]
  },
  {
   "cell_type": "markdown",
   "metadata": {},
   "source": [
    "Here, the path to the MEArec recording and recording name are provided"
   ]
  },
  {
   "cell_type": "code",
   "execution_count": 42,
   "metadata": {},
   "outputs": [],
   "source": [
    "recording_directory = './recordings/'#'/disk/scratch/cole/recordings/'\n",
    "recording_name = 'recordings_300_SqMEA-10-15um_minamp0_60s_10uV_far-neurons_bpf_25-03-2019.h5'\n",
    "save_directory = './recordings/'\n",
    "\n",
    "#\n",
    "width = 40 # The distance from the channel with the largest amplitude spike for which channels are included in the constructed data (microns).\n",
    "spike_jitter = 5 # The number of frames used to align the extracted waveforms. We search within +-5 frames of the ground truth spike time to find the true peak.\n",
    "amp_jitter = 0 # The amplitude jitter hyperparameter (described in the manuscript)\n",
    "save = True # Save the dataset to the save_directory if True\n",
    "#For testing\n",
    "num_spikes = 500"
   ]
  },
  {
   "cell_type": "code",
   "execution_count": 53,
   "metadata": {},
   "outputs": [],
   "source": [
    "recording = se.MEArecRecordingExtractor(recording_directory + recording_name, locs_2d=False)\n",
    "sorting = se.MEArecSortingExtractor(recording_directory + recording_name)\n",
    "channel_positions = np.asarray(recording.get_channel_locations())"
   ]
  },
  {
   "cell_type": "code",
   "execution_count": 125,
   "metadata": {},
   "outputs": [],
   "source": [
    "spike_times = []\n",
    "for unit_id in sorting.get_unit_ids():\n",
    "    spike_train = sorting.get_unit_spike_train(unit_id=unit_id)\n",
    "    spike_times.extend(spike_train)\n",
    "spike_times = sorted(spike_times)\n",
    "\n",
    "#For testing\n",
    "spike_times = spike_times[:num_spikes]"
   ]
  },
  {
   "cell_type": "code",
   "execution_count": 126,
   "metadata": {},
   "outputs": [
    {
     "name": "stdout",
     "output_type": "stream",
     "text": [
      "0.0 %\n",
      "0.2 %\n",
      "0.4 %\n",
      "0.6 %\n",
      "0.8 %\n"
     ]
    }
   ],
   "source": [
    "#Generate min channels if not given by user (we assume it is given!)\n",
    "min_channels = []\n",
    "for i, spike_time in enumerate(spike_times):\n",
    "    if i % (int(len(spike_times)/5)) == 0:\n",
    "        print(float(i)/len(spike_times), '%')\n",
    "    snippets = np.squeeze(recording.get_snippets(channel_ids=None, reference_frames=[spike_time], snippet_len=10),0)\n",
    "    min_channel_id = np.argmin(np.min(snippets, 1))\n",
    "    min_channels.append(min_channel_id)"
   ]
  },
  {
   "cell_type": "markdown",
   "metadata": {},
   "source": [
    "We now pad the electrode positions with \"virtual\" channels that lie outside the bounds of the MEA"
   ]
  },
  {
   "cell_type": "code",
   "execution_count": 127,
   "metadata": {
    "scrolled": true
   },
   "outputs": [
    {
     "data": {
      "image/png": "[encoded data removed]",
      "text/plain": [
       "<Figure size 864x864 with 1 Axes>"
      ]
     },
     "metadata": {
      "needs_background": "light"
     },
     "output_type": "display_data"
    }
   ],
   "source": [
    "sorted_widths = np.unique(np.sort(channel_positions[:,1]))\n",
    "buffer_height = sorted_widths[-1] + (-sorted_widths[0]) + (sorted_widths[-1] - sorted_widths[-2])\n",
    "sorted_heights = np.unique(np.sort(channel_positions[:,2]))\n",
    "buffer_width = sorted_heights[-1] + (-sorted_heights[0]) + (sorted_heights[-1] - sorted_heights[-2])\n",
    "\n",
    "padded_channel_list = list(channel_positions)\n",
    "for i in range(-1, 2):\n",
    "    for j in range(-1, 2):\n",
    "        if((i,j) != (0,0)):\n",
    "            buffer_channel_y = channel_positions[:,1] + buffer_height*i\n",
    "            buffer_channel_z = channel_positions[:,2] + buffer_width*j\n",
    "            channel_positions_copy = np.copy(channel_positions)\n",
    "            channel_positions_copy[:,1] += buffer_height*i\n",
    "            channel_positions_copy[:,2] += buffer_width*j\n",
    "            padded_channel_list = padded_channel_list + list(channel_positions_copy)\n",
    "\n",
    "padded_channel_positions = np.asarray(padded_channel_list)\n",
    "\n",
    "plt.figure(figsize=(12, 12))\n",
    "plt.scatter(padded_channel_positions[:,1], padded_channel_positions[:,2], color='orange', marker='s', alpha=.5, label='Virtual Channel')\n",
    "plt.scatter(channel_positions[:,1], channel_positions[:,2], color='blue', marker='s', label='Real Channel')\n",
    "plt.legend(fancybox=True, framealpha=1);"
   ]
  },
  {
   "cell_type": "markdown",
   "metadata": {},
   "source": [
    "Now, we extract all the waveforms for each event in the recording and compute the closest channels to each neuron for later use"
   ]
  },
  {
   "cell_type": "code",
   "execution_count": 128,
   "metadata": {},
   "outputs": [],
   "source": [
    "width_dist_channels = defaultdict(list)\n",
    "channel_ids = recording.get_channel_ids()\n",
    "for i, channel in enumerate(channel_ids):\n",
    "    channel_ids_copy = np.copy(channel_ids)\n",
    "    closest_channels = np.asarray(sorted(channel_ids, key=lambda channel_id: np.linalg.norm(channel_positions[channel_id] - channel_positions[channel])))\n",
    "    for close_channel in closest_channels:\n",
    "        if np.linalg.norm(channel_positions[close_channel] - channel_positions[channel]) < width:\n",
    "            width_dist_channels[channel].append(close_channel)"
   ]
  },
  {
   "cell_type": "markdown",
   "metadata": {},
   "source": [
    "Finally, we construct and save the augmented data in a format that can be used for our localization method. We also store the ground truth for later evaluation."
   ]
  },
  {
   "cell_type": "code",
   "execution_count": 145,
   "metadata": {},
   "outputs": [],
   "source": [
    "save = True\n",
    "if(save):       \n",
    "    channel_string = str(width) +\"um\"\n",
    "    train_path = save_directory + 'model_data_ngt_'+ channel_string + '_VAE_'+str(amp_jitter)+'_amp_jitter_' + recording_name\n",
    "    #Training data\n",
    "    hf_train = h5py.File(train_path, 'w')\n",
    "    num_samples = len(spike_times)\n",
    "    num_channels = 25\n",
    "    len_waveform = 61\n",
    "    save_every = 100\n",
    "#     save_every = num_samples\n",
    "    amps_dataset = hf_train.create_dataset('amps_list', (num_samples, num_channels, 2))\n",
    "    channel_locations_dataset = hf_train.create_dataset('channel_locations_list', (num_samples, num_channels, 3))\n",
    "    waveforms_dataset = hf_train.create_dataset('waveforms_list', (num_samples, num_channels, len_waveform))\n",
    "    center_location_dataset = hf_train.create_dataset('center_location_list', (num_samples, 3))\n",
    "    central_channel_dataset = hf_train.create_dataset('central_channel_list', (num_samples,),'i')\n",
    "    spike_time_dataset = hf_train.create_dataset('spike_time_list', (num_samples,),'i')\n",
    "    spike_id_dataset = hf_train.create_dataset('spike_id_list', (num_samples,),'i')"
   ]
  },
  {
   "cell_type": "code",
   "execution_count": 146,
   "metadata": {},
   "outputs": [
    {
     "name": "stdout",
     "output_type": "stream",
     "text": [
      "0.0 %\n",
      "0.2 %\n",
      "0.4 %\n",
      "0.6 %\n",
      "0.8 %\n",
      "seconds:1.805505\n"
     ]
    }
   ],
   "source": [
    "amps_list = []\n",
    "channel_locations_list = []\n",
    "center_location_list = []\n",
    "central_channel_list = []\n",
    "waveforms_list_list = []\n",
    "peak_channel_list = []\n",
    "spike_time_list = []\n",
    "spike_id_list = []\n",
    "spike_id = 0\n",
    "\n",
    "import time\n",
    "t1 = time.time()\n",
    "\n",
    "for i, min_channel in enumerate(min_channels):\n",
    "    if i % (int(len(min_channels)/5)) == 0:\n",
    "        print(float(i)/len(min_channels), '%')\n",
    "    dists = []\n",
    "    amps = []\n",
    "    locations = []\n",
    "    \n",
    "    spike_time = spike_times[i]\n",
    "    candidate_channels = np.asarray(width_dist_channels[min_channel])\n",
    "    waveforms = np.squeeze(recording.get_snippets(reference_frames=[spike_time], snippet_len=61), 0)\n",
    "    peak_frames, peak_channels, peak_amps = data_augmentation_functions_new.get_peak_events(waveforms, candidate_channels, amp_jitter=amp_jitter,spike_jitter=spike_jitter)\n",
    "    for j, peak_channel in enumerate(peak_channels):\n",
    "        peak_frame = peak_frames[j]\n",
    "        peak_amp = peak_amps[j]\n",
    "        #Get a group of channels within the given width from the max channel\n",
    "        square_channel_tuples, center_position = data_augmentation_functions_new.get_channel_square(peak_channel, padded_channel_positions, width=width)\n",
    "\n",
    "        #Construct augmented data dataset with virtual and real channels (take min of each real channel (jitter around peak))\n",
    "        amps = []\n",
    "        channel_locations = []\n",
    "        waveforms_list = []\n",
    "        #If all waveforms are positive, we discard the event (this happens incredibly rarely in ground truth data and almost never in real data).\n",
    "        if(peak_amp < 0):\n",
    "            for sct in square_channel_tuples:\n",
    "                channel = sct[0]\n",
    "                scaled_position = padded_channel_positions[channel] - center_position\n",
    "                channel_x = scaled_position[0]\n",
    "                channel_y = scaled_position[1]\n",
    "                channel_z = scaled_position[2]\n",
    "                if(channel < channel_positions.shape[0]):\n",
    "                    #Real channel\n",
    "                    observed = 1\n",
    "                    #Get min peak within the spike jitter around the frame where the true minimum occurred\n",
    "                    min_peak = np.min(waveforms[channel, peak_frame - spike_jitter:peak_frame + spike_jitter]) \n",
    "                    peak_reading = min_peak\n",
    "                    waveforms_list.append(waveforms[channel,:])\n",
    "                else:\n",
    "                    #Virtual channel\n",
    "                    observed = 0\n",
    "                    #Virtual reading\n",
    "                    peak_reading = 0\n",
    "                    waveforms_list.append(np.zeros(len(waveforms[0,:])))\n",
    "                #Calculate relative location compared to center position for channel\n",
    "                channel_locations.append([channel_x, channel_y, channel_z])\n",
    "                #Construct augmented amplitudes for channel\n",
    "                amps.append((peak_reading, observed))\n",
    "            #Model data\n",
    "            waveforms_list_list.append(waveforms_list)\n",
    "            amps_list.append(amps)\n",
    "            channel_locations_list.append(channel_locations)\n",
    "            center_location_list.append(list(center_position))\n",
    "            peak_channel_list.append(peak_channel)\n",
    "            spike_time_list.append(spike_time)\n",
    "            spike_id_list.append(spike_id)\n",
    "            central_channel_list.append(peak_channel)\n",
    "            \n",
    "            k = i + 1\n",
    "            if save and (k == num_samples or k % save_every == 0):                \n",
    "                if (k == num_samples) and (k % save_every):\n",
    "                    save_every = k % save_every                        \n",
    "                waveforms_dataset[k-save_every:k] = waveforms_list_list\n",
    "                amps_dataset[k-save_every:k] = amps_list\n",
    "                channel_locations_dataset[k-save_every:k] = channel_locations_list\n",
    "                center_location_dataset[k-save_every:k] = center_location_list\n",
    "                spike_time_dataset[k-save_every:k] = spike_time_list\n",
    "                spike_id_dataset[k-save_every:k] = spike_id_list\n",
    "                central_channel_dataset[k-save_every:k] = central_channel_list\n",
    "                waveforms_list_list = []\n",
    "                amps_list = []\n",
    "                channel_locations_list = []\n",
    "                center_location_list = []\n",
    "                central_channel_list = []\n",
    "                peak_channel_list = []\n",
    "                spike_time_list = []\n",
    "                spike_id_list = []\n",
    "        else:\n",
    "            pass\n",
    "    spike_id += 1\n",
    "# ################################################################################## Save augmented data\n",
    "if(save):\n",
    "    hf_train.close()\n",
    "#     print(\"Train Path: \" + train_path)\n",
    "print('seconds:%f'%(time.time()-t1))"
   ]
  },
  {
   "cell_type": "markdown",
   "metadata": {},
   "source": [
    "Now, we can visualize examples for the augmented dataset to see how the data was prepared."
   ]
  },
  {
   "cell_type": "code",
   "execution_count": 144,
   "metadata": {},
   "outputs": [
    {
     "data": {
      "image/png": "[encoded data removed]",
      "text/plain": [
       "<Figure size 432x432 with 1 Axes>"
      ]
     },
     "metadata": {},
     "output_type": "display_data"
    }
   ],
   "source": [
    "event_id = 20\n",
    "scalar = .05\n",
    "\n",
    "mid_frame = waveforms.shape[1]//2 # Middle frame of extracted waveform\n",
    "cutout_start = 19 # Number of frames before peak to plot\n",
    "cutout_end = 40 # Number of frames after peak to plot\n",
    "\n",
    "amps = amps_list[event_id]\n",
    "waveforms = np.asarray(waveforms_list_list[event_id])[:,mid_frame-cutout_start:mid_frame+cutout_end]\n",
    "channel_locs = channel_locations_list[event_id]\n",
    "center_loc = center_location_list[event_id]\n",
    "\n",
    "fig, ax = plt.subplots(1, 1, figsize=(6, 6))\n",
    "\n",
    "for i in range(len(amps)):\n",
    "    ax.scatter(channel_locs[i][1] + center_loc[1], channel_locs[i][2] + center_loc[2], s=30, c=\"grey\", marker='s')\n",
    "    readings = waveforms[i]\n",
    "    xs = np.linspace(-2.5, 5, waveforms[i].shape[0])\n",
    "    plt.plot(channel_locs[i][1] +  center_loc[1] + xs, channel_locs[i][2] + center_loc[2] + readings*scalar, color='blue')\n",
    "    observed = amps[i][1]\n",
    "    text = ax.annotate(amps[i][1], (channel_locs[i][1] + center_loc[1] + 1, channel_locs[i][2] + center_loc[2] + 1))\n",
    "    text.set_fontsize(10)\n",
    "# ax.scatter(neuron_loc[1] + center_loc[1], neuron_loc[2] + center_loc[2], s=100, marker='*', c=\"red\")\n",
    "\n",
    "ax.tick_params(\n",
    "    axis='x',          # changes apply to the x-axis\n",
    "    which='both',      # both major and minor ticks are affected\n",
    "    bottom=False,      # ticks along the bottom edge are off\n",
    "    top=False,         # ticks along the top edge are off\n",
    "    labelbottom=False); # labels along the bottom edge are off\n",
    "\n",
    "ax.tick_params(\n",
    "    axis='y',          # changes apply to the x-axis\n",
    "    which='both',      # both major and minor ticks are affected\n",
    "    bottom=False,      # ticks along the bottom edge are off\n",
    "    top=False,\n",
    "    left=False,# ticks along the top edge are off\n",
    "    labelbottom=False,\n",
    "    labelleft=False); # labels along the bottom edge are off\n",
    "\n",
    "from matplotlib.lines import Line2D\n",
    "ax.set_axis_off()\n",
    "line2 = Line2D(range(1), range(1), color=\"white\", marker='s', markerfacecolor=\"grey\", markersize=10)\n",
    "line3 = Line2D(range(1), range(1), color=\"blue\", markerfacecolor=\"blue\", markersize=12)\n",
    "\n",
    "plt.legend((line2,line3),('Electrode', 'Waveform'),numpoints=1, loc=4, framealpha=1);"
   ]
  },
  {
   "cell_type": "code",
   "execution_count": null,
   "metadata": {},
   "outputs": [],
   "source": []
  }
 ],
 "metadata": {
  "kernelspec": {
   "display_name": "Python 3",
   "language": "python",
   "name": "python3"
  },
  "language_info": {
   "codemirror_mode": {
    "name": "ipython",
    "version": 3
   },
   "file_extension": ".py",
   "mimetype": "text/x-python",
   "name": "python",
   "nbconvert_exporter": "python",
   "pygments_lexer": "ipython3",
   "version": "3.7.5"
  }
 },
 "nbformat": 4,
 "nbformat_minor": 2
}
